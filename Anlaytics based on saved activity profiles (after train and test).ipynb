{
 "cells": [
  {
   "cell_type": "code",
   "execution_count": 1,
   "id": "82b01a64",
   "metadata": {},
   "outputs": [],
   "source": [
    "import torch\n",
    "import numpy as np\n",
    "from sklearn.linear_model import SGDClassifier\n",
    "from sklearn.preprocessing import StandardScaler\n",
    "from sklearn.pipeline import make_pipeline\n",
    "import matplotlib.pyplot as plt\n",
    "\n",
    "def all_activity(\n",
    "    spikes: torch.Tensor, assignments: torch.Tensor, n_labels: int\n",
    ") -> torch.Tensor:\n",
    "    # language=rst\n",
    "    \"\"\"\n",
    "    Classify data with the label with highest average spiking activity over all neurons.\n",
    "\n",
    "    :param spikes: Binary tensor of shape ``(n_samples, time, n_neurons)`` of a layer's\n",
    "        spiking activity.\n",
    "    :param assignments: A vector of shape ``(n_neurons,)`` of neuron label assignments.\n",
    "    :param n_labels: The number of target labels in the data.\n",
    "    :return: Predictions tensor of shape ``(n_samples,)`` resulting from the \"all\n",
    "        activity\" classification scheme.\n",
    "    \"\"\"\n",
    "    n_samples = spikes.size(0)\n",
    "\n",
    "    rates = torch.zeros((n_samples, n_labels), device=spikes.device)\n",
    "    for i in range(n_labels):\n",
    "        # Count the number of neurons with this label assignment.\n",
    "        n_assigns = torch.sum(assignments == i).float()\n",
    "\n",
    "        if n_assigns > 0:\n",
    "            # Get indices of samples with this label.\n",
    "            indices = torch.nonzero(assignments == i).view(-1)\n",
    "\n",
    "            # Compute layer-wise firing rate for this label.\n",
    "            rates[:, i] = torch.sum(spikes[:, indices], 1) / n_assigns\n",
    "\n",
    "    # Predictions are arg-max of layer-wise firing rates.\n",
    "    return torch.sort(rates, dim=1, descending=True)[1][:, 0]\n",
    "\n",
    "\n",
    "def proportion_weighting(\n",
    "    spikes: torch.Tensor,\n",
    "    assignments: torch.Tensor,\n",
    "    proportions: torch.Tensor,\n",
    "    n_labels: int,\n",
    ") -> torch.Tensor:\n",
    "    # language=rst\n",
    "    \"\"\"\n",
    "    Classify data with the label with highest average spiking activity over all neurons,\n",
    "    weighted by class-wise proportion.\n",
    "\n",
    "    :param spikes: Binary tensor of shape ``(n_samples, time, n_neurons)`` of a single\n",
    "        layer's spiking activity.\n",
    "    :param assignments: A vector of shape ``(n_neurons,)`` of neuron label assignments.\n",
    "    :param proportions: A matrix of shape ``(n_neurons, n_labels)`` giving the per-class\n",
    "        proportions of neuron spiking activity.\n",
    "    :param n_labels: The number of target labels in the data.\n",
    "    :return: Predictions tensor of shape ``(n_samples,)`` resulting from the \"proportion\n",
    "        weighting\" classification scheme.\n",
    "    \"\"\"\n",
    "    n_samples = spikes.size(0)\n",
    "\n",
    "    rates = torch.zeros((n_samples, n_labels), device=spikes.device)\n",
    "    for i in range(n_labels):\n",
    "        # Count the number of neurons with this label assignment.\n",
    "        n_assigns = torch.sum(assignments == i).float()\n",
    "\n",
    "        if n_assigns > 0:\n",
    "            # Get indices of samples with this label.\n",
    "            indices = torch.nonzero(assignments == i).view(-1)\n",
    "\n",
    "            # Compute layer-wise firing rate for this label.\n",
    "            rates[:, i] += (\n",
    "                torch.sum((proportions[:, i] * spikes)[:, indices], 1) / n_assigns\n",
    "            )\n",
    "\n",
    "    # Predictions are arg-max of layer-wise firing rates.\n",
    "    predictions = torch.sort(rates, dim=1, descending=True)[1][:, 0]\n",
    "\n",
    "    return predictions\n",
    "\n",
    "def pop_prediction(\n",
    "    spikes: torch.Tensor, label_profiles: torch.Tensor, n_labels: int\n",
    ") -> torch.Tensor:\n",
    "    # language=rst\n",
    "    \"\"\"\n",
    "    Classify data with the label with highest aligned output activity profile.\n",
    "\n",
    "    :param spikes: Binary tensor of shape ``(n_samples, time, n_neurons)`` of a layer's\n",
    "        spiking activity.\n",
    "    :param label_profiles: A vector of shape ``(n_neurons, n_labels)`` of neuron label assignments.\n",
    "    :param n_labels: The number of target labels in the data.\n",
    "    :return: Predictions tensor of shape ``(n_samples,)`` resulting from the \"all\n",
    "        activity\" classification scheme.\n",
    "    \"\"\"\n",
    "\n",
    "    #calculate align of each profile to the label profiles\n",
    "    fits = torch.mm(spikes, label_profiles)\n",
    "\n",
    "    # Predictions are arg-max of population activity vector products with label_profiles.\n",
    "    return torch.sort(fits, dim=1, descending=True)[1][:, 0]"
   ]
  },
  {
   "cell_type": "code",
   "execution_count": 2,
   "id": "87ad4a99",
   "metadata": {},
   "outputs": [],
   "source": [
    "#recurrent nets\n",
    "\n",
    "endpoint_delays = [\"50\", \"100\", \"200\"]\n",
    "\n",
    "data = []\n",
    "labels = []\n",
    "\n",
    "test_data = []\n",
    "test_labels = []\n",
    "\n",
    "clf = []\n",
    "label_profiles = []\n",
    "assignments = []\n",
    "proportions = []\n",
    "\n",
    "#load everything\n",
    "for i in range(1):\n",
    "    data.append(torch.load(f'sdg_classification/norm_activities.pt').cpu().detach().numpy())\n",
    "    labels.append(torch.load(f'sdg_classification/labelling.pt').cpu().detach().numpy())\n",
    "    labels[i] = labels[i].reshape((2230))\n",
    "    \n",
    "    test_data.append(torch.load(f'sdg_classification/test_norm_activities.pt').cpu().detach().numpy())\n",
    "    test_labels.append(torch.load(f'sdg_classification/test_labelling.pt').cpu().detach().numpy())\n",
    "    \n",
    "    clf.append(make_pipeline(StandardScaler(), SGDClassifier(max_iter=1000, tol=1e-3, loss='modified_huber')))\n",
    "    clf[i].fit(data[i], labels[i])\n",
    "    \n",
    "    label_profiles.append(torch.load(f'label_profiles/final_profiles.pt').cpu().detach().numpy())\n",
    "    \n",
    "    assignments.append(torch.load(f'neuron_eval/final_assignments_at_100%.pt').cpu().detach().numpy())\n",
    "    proportions.append(torch.load(f'neuron_eval/final_proportions_at_100%.pt').cpu().detach().numpy())\n",
    "    \n",
    "#predict stuff train\n",
    "train_correct = []\n",
    "train_pred_svm = []\n",
    "train_pred_pop = []\n",
    "train_pred_all = []\n",
    "train_pred_prop = []\n",
    "\n",
    "counter = 0\n",
    "\n",
    "for i in range(1):\n",
    "    \n",
    "    train_correct.append([0,0,0,0])\n",
    "    train_pred_svm.append(clf[i].predict(data[i]))\n",
    "    data_tensor = torch.from_numpy(data[i])\n",
    "    label_profiles_tensor = torch.from_numpy(label_profiles[i])\n",
    "    assignments_tensor = torch.from_numpy(assignments[i])\n",
    "    proportions_tensor = torch.from_numpy(proportions[i])\n",
    "\n",
    "    train_pred_pop.append(pop_prediction(data_tensor, label_profiles_tensor, 10))\n",
    "    train_pred_all.append(all_activity(data_tensor, assignments_tensor, 10))\n",
    "    train_pred_prop.append(proportion_weighting(data_tensor, assignments_tensor, proportions_tensor, 10))\n",
    "    \n",
    "    counter = 0\n",
    "    \n",
    "    for label in labels[i]:    \n",
    "        if(train_pred_svm[i][counter] == label): train_correct[i][0] += 1\n",
    "        if(train_pred_pop[i][counter] == label): train_correct[i][1] += 1\n",
    "        if(train_pred_all[i][counter] == label): train_correct[i][2] += 1\n",
    "        if(train_pred_prop[i][counter] == label): train_correct[i][3] += 1\n",
    "        \n",
    "        counter+=1\n",
    "        \n",
    "        \n",
    "n_train = counter + 1\n",
    "        \n",
    "#predict stuff test\n",
    "test_correct = []\n",
    "test_pred_svm = []\n",
    "test_pred_pop = []\n",
    "test_pred_all = []\n",
    "test_pred_prop= []\n",
    "\n",
    "counter = 0\n",
    "\n",
    "for i in range(1):\n",
    "    \n",
    "    test_correct.append([0,0,0,0])\n",
    "    test_pred_svm.append(clf[i].predict(test_data[i]))\n",
    "    test_data_tensor = torch.from_numpy(test_data[i])\n",
    "    label_profiles_tensor = torch.from_numpy(label_profiles[i])\n",
    "    assignments_tensor = torch.from_numpy(assignments[i])\n",
    "    proportions_tensor = torch.from_numpy(proportions[i])\n",
    "    \n",
    "    test_pred_pop.append(pop_prediction(test_data_tensor, label_profiles_tensor, 10))\n",
    "    test_pred_all.append(all_activity(test_data_tensor, assignments_tensor, 10))\n",
    "    test_pred_prop.append(proportion_weighting(test_data_tensor, assignments_tensor, proportions_tensor, 10))\n",
    "    \n",
    "    counter = 0\n",
    "    \n",
    "    for label in test_labels[i]:\n",
    "        if(test_pred_svm[i][counter] == label): test_correct[i][0] += 1\n",
    "        if(test_pred_pop[i][counter] == label): test_correct[i][1] += 1\n",
    "        if(test_pred_all[i][counter] == label): test_correct[i][2] += 1\n",
    "        if(test_pred_prop[i][counter] == label): test_correct[i][3] += 1\n",
    "        \n",
    "        counter += 1\n",
    "        \n",
    "n_test = counter + 1\n",
    "\n",
    "#convert to accuracies\n",
    "svm_acc = [[],[]]\n",
    "pop_acc = [[],[]]\n",
    "all_acc = [[],[]]\n",
    "prop_acc = [[],[]]\n",
    "\n",
    "for i in range(1):\n",
    "    svm_acc[0].append(train_correct[i][0]/n_train)\n",
    "    svm_acc[1].append(test_correct[i][0]/n_test)\n",
    "    pop_acc[0].append(train_correct[i][1]/n_train)\n",
    "    pop_acc[1].append(test_correct[i][1]/n_test)\n",
    "    all_acc[0].append(train_correct[i][2]/n_train)\n",
    "    all_acc[1].append(test_correct[i][2]/n_test)\n",
    "    prop_acc[0].append(train_correct[i][3]/n_train)\n",
    "    prop_acc[1].append(test_correct[i][3]/n_test)"
   ]
  },
  {
   "cell_type": "code",
   "execution_count": 4,
   "id": "9ffbf36e",
   "metadata": {},
   "outputs": [
    {
     "data": {
      "text/plain": [
       "[[0.575974899148364], [0.32684652808491815]]"
      ]
     },
     "execution_count": 4,
     "metadata": {},
     "output_type": "execute_result"
    }
   ],
   "source": [
    "svm_acc"
   ]
  },
  {
   "cell_type": "code",
   "execution_count": 5,
   "id": "47ca76ce",
   "metadata": {},
   "outputs": [
    {
     "data": {
      "text/plain": [
       "[[0.4069923800986105], [0.33171163202122955]]"
      ]
     },
     "execution_count": 5,
     "metadata": {},
     "output_type": "execute_result"
    }
   ],
   "source": [
    "pop_acc"
   ]
  },
  {
   "cell_type": "code",
   "execution_count": 6,
   "id": "7c5a895c",
   "metadata": {},
   "outputs": [
    {
     "data": {
      "text/plain": [
       "[[0.42088749439713136], [0.2998673153471915]]"
      ]
     },
     "execution_count": 6,
     "metadata": {},
     "output_type": "execute_result"
    }
   ],
   "source": [
    "all_acc"
   ]
  },
  {
   "cell_type": "code",
   "execution_count": 7,
   "id": "e7d8f2cd",
   "metadata": {},
   "outputs": [
    {
     "data": {
      "text/plain": [
       "[[0.4625728372926939], [0.32596196373286157]]"
      ]
     },
     "execution_count": 7,
     "metadata": {},
     "output_type": "execute_result"
    }
   ],
   "source": [
    "prop_acc"
   ]
  },
  {
   "cell_type": "code",
   "execution_count": null,
   "id": "fa4edc5b",
   "metadata": {},
   "outputs": [],
   "source": []
  },
  {
   "cell_type": "code",
   "execution_count": null,
   "id": "d5f22bd9",
   "metadata": {},
   "outputs": [],
   "source": []
  },
  {
   "cell_type": "code",
   "execution_count": null,
   "id": "d2f57eb6",
   "metadata": {},
   "outputs": [],
   "source": []
  },
  {
   "cell_type": "code",
   "execution_count": 3,
   "id": "f56765bb",
   "metadata": {},
   "outputs": [
    {
     "ename": "ValueError",
     "evalue": "The number of FixedLocator locations (1), usually from a call to set_ticks, does not match the number of ticklabels (3).",
     "output_type": "error",
     "traceback": [
      "\u001b[0;31m---------------------------------------------------------------------------\u001b[0m",
      "\u001b[0;31mValueError\u001b[0m                                Traceback (most recent call last)",
      "Input \u001b[0;32mIn [3]\u001b[0m, in \u001b[0;36m<cell line: 28>\u001b[0;34m()\u001b[0m\n\u001b[1;32m     26\u001b[0m plt\u001b[38;5;241m.\u001b[39mxlabel(\u001b[38;5;124m'\u001b[39m\u001b[38;5;124mTime constant (in ms)\u001b[39m\u001b[38;5;124m'\u001b[39m, fontweight \u001b[38;5;241m=\u001b[39m\u001b[38;5;124m'\u001b[39m\u001b[38;5;124mbold\u001b[39m\u001b[38;5;124m'\u001b[39m, fontsize \u001b[38;5;241m=\u001b[39m \u001b[38;5;241m15\u001b[39m)\n\u001b[1;32m     27\u001b[0m plt\u001b[38;5;241m.\u001b[39mylabel(\u001b[38;5;124m'\u001b[39m\u001b[38;5;124mAccuracy\u001b[39m\u001b[38;5;124m'\u001b[39m, fontweight \u001b[38;5;241m=\u001b[39m\u001b[38;5;124m'\u001b[39m\u001b[38;5;124mbold\u001b[39m\u001b[38;5;124m'\u001b[39m, fontsize \u001b[38;5;241m=\u001b[39m \u001b[38;5;241m15\u001b[39m)\n\u001b[0;32m---> 28\u001b[0m \u001b[43mplt\u001b[49m\u001b[38;5;241;43m.\u001b[39;49m\u001b[43mxticks\u001b[49m\u001b[43m(\u001b[49m\u001b[43m[\u001b[49m\u001b[43mr\u001b[49m\u001b[43m \u001b[49m\u001b[38;5;241;43m+\u001b[39;49m\u001b[43m \u001b[49m\u001b[43mbarWidth\u001b[49m\u001b[43m \u001b[49m\u001b[38;5;28;43;01mfor\u001b[39;49;00m\u001b[43m \u001b[49m\u001b[43mr\u001b[49m\u001b[43m \u001b[49m\u001b[38;5;129;43;01min\u001b[39;49;00m\u001b[43m \u001b[49m\u001b[38;5;28;43mrange\u001b[39;49m\u001b[43m(\u001b[49m\u001b[38;5;241;43m1\u001b[39;49m\u001b[43m)\u001b[49m\u001b[43m]\u001b[49m\u001b[43m,\u001b[49m\n\u001b[1;32m     29\u001b[0m \u001b[43m        \u001b[49m\u001b[43mendpoint_delays\u001b[49m\u001b[43m)\u001b[49m\n\u001b[1;32m     30\u001b[0m plt\u001b[38;5;241m.\u001b[39myticks(np\u001b[38;5;241m.\u001b[39marange(\u001b[38;5;241m0\u001b[39m, \u001b[38;5;241m1.1\u001b[39m, step\u001b[38;5;241m=\u001b[39m\u001b[38;5;241m0.1\u001b[39m))\n\u001b[1;32m     31\u001b[0m \u001b[38;5;66;03m#plt.title(\"(a)\", fontsize=30)\u001b[39;00m\n",
      "File \u001b[0;32m~/anaconda3/envs/bindsnet/lib/python3.9/site-packages/matplotlib/pyplot.py:1795\u001b[0m, in \u001b[0;36mxticks\u001b[0;34m(ticks, labels, **kwargs)\u001b[0m\n\u001b[1;32m   1793\u001b[0m         l\u001b[38;5;241m.\u001b[39mupdate(kwargs)\n\u001b[1;32m   1794\u001b[0m \u001b[38;5;28;01melse\u001b[39;00m:\n\u001b[0;32m-> 1795\u001b[0m     labels \u001b[38;5;241m=\u001b[39m \u001b[43max\u001b[49m\u001b[38;5;241;43m.\u001b[39;49m\u001b[43mset_xticklabels\u001b[49m\u001b[43m(\u001b[49m\u001b[43mlabels\u001b[49m\u001b[43m,\u001b[49m\u001b[43m \u001b[49m\u001b[38;5;241;43m*\u001b[39;49m\u001b[38;5;241;43m*\u001b[39;49m\u001b[43mkwargs\u001b[49m\u001b[43m)\u001b[49m\n\u001b[1;32m   1797\u001b[0m \u001b[38;5;28;01mreturn\u001b[39;00m locs, labels\n",
      "File \u001b[0;32m~/anaconda3/envs/bindsnet/lib/python3.9/site-packages/matplotlib/axes/_base.py:75\u001b[0m, in \u001b[0;36m_axis_method_wrapper.__set_name__.<locals>.wrapper\u001b[0;34m(self, *args, **kwargs)\u001b[0m\n\u001b[1;32m     74\u001b[0m \u001b[38;5;28;01mdef\u001b[39;00m \u001b[38;5;21mwrapper\u001b[39m(\u001b[38;5;28mself\u001b[39m, \u001b[38;5;241m*\u001b[39margs, \u001b[38;5;241m*\u001b[39m\u001b[38;5;241m*\u001b[39mkwargs):\n\u001b[0;32m---> 75\u001b[0m     \u001b[38;5;28;01mreturn\u001b[39;00m \u001b[43mget_method\u001b[49m\u001b[43m(\u001b[49m\u001b[38;5;28;43mself\u001b[39;49m\u001b[43m)\u001b[49m\u001b[43m(\u001b[49m\u001b[38;5;241;43m*\u001b[39;49m\u001b[43margs\u001b[49m\u001b[43m,\u001b[49m\u001b[43m \u001b[49m\u001b[38;5;241;43m*\u001b[39;49m\u001b[38;5;241;43m*\u001b[39;49m\u001b[43mkwargs\u001b[49m\u001b[43m)\u001b[49m\n",
      "File \u001b[0;32m~/anaconda3/envs/bindsnet/lib/python3.9/site-packages/matplotlib/axis.py:1798\u001b[0m, in \u001b[0;36mAxis._set_ticklabels\u001b[0;34m(self, labels, fontdict, minor, **kwargs)\u001b[0m\n\u001b[1;32m   1796\u001b[0m \u001b[38;5;28;01mif\u001b[39;00m fontdict \u001b[38;5;129;01mis\u001b[39;00m \u001b[38;5;129;01mnot\u001b[39;00m \u001b[38;5;28;01mNone\u001b[39;00m:\n\u001b[1;32m   1797\u001b[0m     kwargs\u001b[38;5;241m.\u001b[39mupdate(fontdict)\n\u001b[0;32m-> 1798\u001b[0m \u001b[38;5;28;01mreturn\u001b[39;00m \u001b[38;5;28;43mself\u001b[39;49m\u001b[38;5;241;43m.\u001b[39;49m\u001b[43mset_ticklabels\u001b[49m\u001b[43m(\u001b[49m\u001b[43mlabels\u001b[49m\u001b[43m,\u001b[49m\u001b[43m \u001b[49m\u001b[43mminor\u001b[49m\u001b[38;5;241;43m=\u001b[39;49m\u001b[43mminor\u001b[49m\u001b[43m,\u001b[49m\u001b[43m \u001b[49m\u001b[38;5;241;43m*\u001b[39;49m\u001b[38;5;241;43m*\u001b[39;49m\u001b[43mkwargs\u001b[49m\u001b[43m)\u001b[49m\n",
      "File \u001b[0;32m~/anaconda3/envs/bindsnet/lib/python3.9/site-packages/matplotlib/axis.py:1720\u001b[0m, in \u001b[0;36mAxis.set_ticklabels\u001b[0;34m(self, ticklabels, minor, **kwargs)\u001b[0m\n\u001b[1;32m   1716\u001b[0m \u001b[38;5;28;01mif\u001b[39;00m \u001b[38;5;28misinstance\u001b[39m(locator, mticker\u001b[38;5;241m.\u001b[39mFixedLocator):\n\u001b[1;32m   1717\u001b[0m     \u001b[38;5;66;03m# Passing [] as a list of ticklabels is often used as a way to\u001b[39;00m\n\u001b[1;32m   1718\u001b[0m     \u001b[38;5;66;03m# remove all tick labels, so only error for > 0 ticklabels\u001b[39;00m\n\u001b[1;32m   1719\u001b[0m     \u001b[38;5;28;01mif\u001b[39;00m \u001b[38;5;28mlen\u001b[39m(locator\u001b[38;5;241m.\u001b[39mlocs) \u001b[38;5;241m!=\u001b[39m \u001b[38;5;28mlen\u001b[39m(ticklabels) \u001b[38;5;129;01mand\u001b[39;00m \u001b[38;5;28mlen\u001b[39m(ticklabels) \u001b[38;5;241m!=\u001b[39m \u001b[38;5;241m0\u001b[39m:\n\u001b[0;32m-> 1720\u001b[0m         \u001b[38;5;28;01mraise\u001b[39;00m \u001b[38;5;167;01mValueError\u001b[39;00m(\n\u001b[1;32m   1721\u001b[0m             \u001b[38;5;124m\"\u001b[39m\u001b[38;5;124mThe number of FixedLocator locations\u001b[39m\u001b[38;5;124m\"\u001b[39m\n\u001b[1;32m   1722\u001b[0m             \u001b[38;5;124mf\u001b[39m\u001b[38;5;124m\"\u001b[39m\u001b[38;5;124m (\u001b[39m\u001b[38;5;132;01m{\u001b[39;00m\u001b[38;5;28mlen\u001b[39m(locator\u001b[38;5;241m.\u001b[39mlocs)\u001b[38;5;132;01m}\u001b[39;00m\u001b[38;5;124m), usually from a call to\u001b[39m\u001b[38;5;124m\"\u001b[39m\n\u001b[1;32m   1723\u001b[0m             \u001b[38;5;124m\"\u001b[39m\u001b[38;5;124m set_ticks, does not match\u001b[39m\u001b[38;5;124m\"\u001b[39m\n\u001b[1;32m   1724\u001b[0m             \u001b[38;5;124mf\u001b[39m\u001b[38;5;124m\"\u001b[39m\u001b[38;5;124m the number of ticklabels (\u001b[39m\u001b[38;5;132;01m{\u001b[39;00m\u001b[38;5;28mlen\u001b[39m(ticklabels)\u001b[38;5;132;01m}\u001b[39;00m\u001b[38;5;124m).\u001b[39m\u001b[38;5;124m\"\u001b[39m)\n\u001b[1;32m   1725\u001b[0m     tickd \u001b[38;5;241m=\u001b[39m {loc: lab \u001b[38;5;28;01mfor\u001b[39;00m loc, lab \u001b[38;5;129;01min\u001b[39;00m \u001b[38;5;28mzip\u001b[39m(locator\u001b[38;5;241m.\u001b[39mlocs, ticklabels)}\n\u001b[1;32m   1726\u001b[0m     func \u001b[38;5;241m=\u001b[39m functools\u001b[38;5;241m.\u001b[39mpartial(\u001b[38;5;28mself\u001b[39m\u001b[38;5;241m.\u001b[39m_format_with_dict, tickd)\n",
      "\u001b[0;31mValueError\u001b[0m: The number of FixedLocator locations (1), usually from a call to set_ticks, does not match the number of ticklabels (3)."
     ]
    },
    {
     "data": {
      "image/png": "[encoded data removed]",
      "text/plain": [
       "<Figure size 864x576 with 1 Axes>"
      ]
     },
     "metadata": {
      "needs_background": "light"
     },
     "output_type": "display_data"
    }
   ],
   "source": [
    "#plot train\n",
    "import numpy as np\n",
    "import matplotlib.pyplot as plt\n",
    " \n",
    "# set width of bar\n",
    "barWidth = 0.2\n",
    "fig = plt.subplots(figsize =(12, 8))\n",
    "\n",
    "# Set position of bar on X axis\n",
    "br1 = np.arange(len(svm_acc[0]))\n",
    "br2 = [x + barWidth for x in br1]\n",
    "br3 = [x + barWidth for x in br2]\n",
    "br4 = [x + barWidth for x in br3]\n",
    " \n",
    "# Make the plot\n",
    "plt.bar(br1, svm_acc[0], color ='r', width = barWidth,\n",
    "        edgecolor ='grey', label ='SVM')\n",
    "plt.bar(br2, pop_acc[0], color ='g', width = barWidth,\n",
    "        edgecolor ='grey', label ='Population')\n",
    "plt.bar(br3, all_acc[0], color ='b', width = barWidth,\n",
    "        edgecolor ='grey', label ='All accuracy')\n",
    "plt.bar(br4, prop_acc[0], color ='y', width = barWidth,\n",
    "        edgecolor ='grey', label ='Proportion')\n",
    " \n",
    "# Adding Xticks\n",
    "plt.xlabel('Time constant (in ms)', fontweight ='bold', fontsize = 15)\n",
    "plt.ylabel('Accuracy', fontweight ='bold', fontsize = 15)\n",
    "plt.xticks([r + barWidth for r in range(1)],\n",
    "        endpoint_delays)\n",
    "plt.yticks(np.arange(0, 1.1, step=0.1))\n",
    "#plt.title(\"(a)\", fontsize=30)\n",
    " \n",
    "plt.legend()\n",
    "\n",
    "plt.savefig(\"Accuracy values on training dataset for recurrents.png\", dpi=300)"
   ]
  },
  {
   "cell_type": "code",
   "execution_count": null,
   "id": "62eafee8",
   "metadata": {},
   "outputs": [],
   "source": [
    "#plot test\n",
    "import numpy as np\n",
    "import matplotlib.pyplot as plt\n",
    " \n",
    "# set width of bar\n",
    "barWidth = 0.2\n",
    "fig = plt.subplots(figsize =(12, 8))\n",
    "\n",
    "# Set position of bar on X axis\n",
    "br1 = np.arange(len(svm_acc[1]))\n",
    "br2 = [x + barWidth for x in br1]\n",
    "br3 = [x + barWidth for x in br2]\n",
    "br4 = [x + barWidth for x in br3]\n",
    " \n",
    "# Make the plot\n",
    "plt.bar(br1, svm_acc[1], color ='r', width = barWidth,\n",
    "        edgecolor ='grey', label ='SVM')\n",
    "plt.bar(br2, pop_acc[1], color ='g', width = barWidth,\n",
    "        edgecolor ='grey', label ='Population')\n",
    "plt.bar(br3, all_acc[1], color ='b', width = barWidth,\n",
    "        edgecolor ='grey', label ='All accuracy')\n",
    "plt.bar(br4, prop_acc[1], color ='y', width = barWidth,\n",
    "        edgecolor ='grey', label ='Proportion')\n",
    " \n",
    "# Adding Xticks\n",
    "plt.xlabel('Time constant (in ms)', fontweight ='bold', fontsize = 15)\n",
    "plt.ylabel('Accuracy', fontweight ='bold', fontsize = 15)\n",
    "plt.xticks([r + barWidth for r in range(1)],\n",
    "        endpoint_delays)\n",
    "plt.yticks(np.arange(0, 1.1, step=0.1))\n",
    "#plt.title(\"(a)\", fontsize=30)\n",
    " \n",
    "plt.legend()\n",
    "\n",
    "plt.savefig(\"Accuracy values on test dataset for recurrents.png\", dpi=300)"
   ]
  }
 ],
 "metadata": {
  "kernelspec": {
   "display_name": "Python 3 (ipykernel)",
   "language": "python",
   "name": "python3"
  },
  "language_info": {
   "codemirror_mode": {
    "name": "ipython",
    "version": 3
   },
   "file_extension": ".py",
   "mimetype": "text/x-python",
   "name": "python",
   "nbconvert_exporter": "python",
   "pygments_lexer": "ipython3",
   "version": "3.9.12"
  }
 },
 "nbformat": 4,
 "nbformat_minor": 5
}
